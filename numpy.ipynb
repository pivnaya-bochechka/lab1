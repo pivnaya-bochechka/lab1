{
  "cells": [
    {
      "cell_type": "markdown",
      "metadata": {
        "id": "vC84e9kzyxPy"
      },
      "source": [
        "<h1>Импорт библиотек"
      ]
    },
    {
      "cell_type": "code",
      "execution_count": 3,
      "metadata": {
        "id": "cgKeNegmQG5S"
      },
      "outputs": [],
      "source": [
        "import numpy as np\n",
        "import matplotlib.pyplot as plt"
      ]
    },
    {
      "cell_type": "markdown",
      "metadata": {
        "id": "qFM9uVU2x4Ls"
      },
      "source": [
        "<h1>Задача 1. Дан набор из $p$ матриц размерностью $(n, n)$ и $p$ векторов размерностью $(n, 1)$, найти сумму произведений матриц на векторы. Написать тесты для кода"
      ]
    },
    {
      "cell_type": "code",
      "execution_count": 70,
      "metadata": {
        "id": "IAbUvEiYyWFF"
      },
      "outputs": [
        {
          "name": "stdout",
          "output_type": "stream",
          "text": [
            "Все тесты пройдены\n"
          ]
        }
      ],
      "source": [
        "import numpy as np\n",
        "\n",
        "def sum_prod(X, V):\n",
        "    n = X[0].shape[0]\n",
        "    sum = np.zeros((n, 1))\n",
        "    for matrix, vector in zip(X, V):\n",
        "        sum += np.dot(matrix, vector)\n",
        "    return sum\n",
        "\n",
        "def test_sum_prod():\n",
        "\n",
        "    X1 = [np.array([[1, 2], [3, 4]]), np.array([[5, 6], [7, 8]])]\n",
        "    V1 = [np.array([[1], [1]]), np.array([[1], [1]])]\n",
        "    expected1 = np.array([[14], [22]])\n",
        "    assert np.allclose(sum_prod(X1, V1), expected1)\n",
        "\n",
        "    X2 = [np.array([[0, 0], [0, 0]]), np.array([[0, 0], [0, 0]])]\n",
        "    V2 = [np.array([[1], [1]]), np.array([[1], [1]])]\n",
        "    expected2 = np.array([[0], [0]])\n",
        "    assert np.allclose(sum_prod(X2, V2), expected2)\n",
        "\n",
        "    X3 = [np.array([[1, -1], [-1, 1]])]\n",
        "    V3 = [np.array([[1], [-1]])]\n",
        "    expected3 = np.array([[2], [-2]])  \n",
        "    assert np.allclose(sum_prod(X3, V3), expected3)\n",
        "\n",
        "    print(\"Все тесты пройдены\")\n",
        "\n",
        "test_sum_prod()"
      ]
    },
    {
      "cell_type": "markdown",
      "metadata": {
        "id": "TKwPG4fIy2w4"
      },
      "source": [
        "<h1>Задача 2. Дана матрица M, напишите функцию, которая бинаризует матрицу по некоторому threshold (то есть, все значения большие threshold становятся равными 1, иначе 0). Напишите тесты для кода"
      ]
    },
    {
      "cell_type": "code",
      "execution_count": 69,
      "metadata": {
        "id": "KQDNMgsjRNH7"
      },
      "outputs": [
        {
          "name": "stdout",
          "output_type": "stream",
          "text": [
            "Все тесты пройдены\n"
          ]
        }
      ],
      "source": [
        "import numpy as np\n",
        "\n",
        "def binarize(M, threshold=0.5):\n",
        "    return (M > threshold).astype(int)\n",
        "\n",
        "def test_binarize():\n",
        "    \n",
        "    M1 = np.array([])\n",
        "    threshold1 = 0.5\n",
        "    expected1 = np.array([])\n",
        "    assert np.array_equal(binarize(M1, threshold1), expected1), \"1 тест не пройден\"\n",
        "\n",
        "    M2 = np.array([[0, 1], [2, 3]])\n",
        "    threshold2 = 1.5\n",
        "    expected2 = np.array([[0, 0], [1, 1]])\n",
        "    assert np.array_equal(binarize(M2, threshold2), expected2), \"2 тест не пройден\"\n",
        "\n",
        "    M3 = np.array([[0.4, 0.5], [0.6, 0.7]])\n",
        "    threshold3 = 0.5\n",
        "    expected3 = np.array([[0, 0], [1, 1]])\n",
        "    assert np.array_equal(binarize(M3, threshold3), expected3), \"3 тест не пройден\"\n",
        "\n",
        "    M4 = np.array([[0.1, 0.2], [0.3, 0.4]])\n",
        "    threshold4 = 0.5\n",
        "    expected4 = np.array([[0, 0], [0, 0]])\n",
        "    assert np.array_equal(binarize(M4, threshold4), expected4), \"4 тест не пройден\"\n",
        "\n",
        "    M5 = np.array([[0.6, 0.7], [0.8, 0.9]])\n",
        "    threshold5 = 0.5\n",
        "    expected5 = np.array([[1, 1], [1, 1]])\n",
        "    assert np.array_equal(binarize(M5, threshold5), expected5), \"5 тест не пройден\"\n",
        "\n",
        "    print(\"Все тесты пройдены\")\n",
        "\n",
        "test_binarize()"
      ]
    },
    {
      "cell_type": "markdown",
      "metadata": {
        "id": "IY5L-h-7zWhN"
      },
      "source": [
        "<h1>Задача 3. Напишите функцию, которая возвращает уникальные элементы из каждой строки матрицы. Напишите такую же функцию, но для столбцов. Напишите тесты для кода"
      ]
    },
    {
      "cell_type": "code",
      "execution_count": 68,
      "metadata": {
        "id": "-8dEZhR0SBC-"
      },
      "outputs": [
        {
          "name": "stdout",
          "output_type": "stream",
          "text": [
            "Все тесты пройдены\n"
          ]
        }
      ],
      "source": [
        "import numpy as np\n",
        "\n",
        "def unique_rows(mat):\n",
        "    return [np.unique(row) for row in mat]\n",
        "\n",
        "def unique_columns(mat):\n",
        "    return [np.unique(col) for col in mat.T]\n",
        "\n",
        "def test_unique():\n",
        " \n",
        "    M1 = np.array([[1, 2, 2, 3]])\n",
        "    expected_rows1 = [np.array([1, 2, 3])]\n",
        "    assert np.array_equal(unique_rows(M1)[0], expected_rows1[0]), \"1 тест не пройден\"\n",
        "    \n",
        "    M2 = np.array([[1, 2, 2], [3, 4, 4], [1, 1, 2]])\n",
        "    expected_rows2 = [np.array([1, 2]), np.array([3, 4]), np.array([1, 2])]\n",
        "    for i in range(len(expected_rows2)):\n",
        "        assert np.array_equal(unique_rows(M2)[i], expected_rows2[i]), f\"2 тест не пройден\"\n",
        "    \n",
        "    M3 = np.array([[1], [2], [1]])\n",
        "    expected_cols1 = [np.array([1, 2])]\n",
        "    assert np.array_equal(unique_columns(M3)[0], expected_cols1[0]), \"3 тест не пройден\"\n",
        "    \n",
        "    M4 = np.array([[1, 2], [2, 3], [1, 4]])\n",
        "    expected_cols2 = [np.array([1, 2]), np.array([2, 3, 4])]\n",
        "    for i in range(len(expected_cols2)):\n",
        "        assert np.array_equal(unique_columns(M4)[i], expected_cols2[i]), f\"4 тест не пройден\"\n",
        "\n",
        "    print(\"Все тесты пройдены\")\n",
        "\n",
        "test_unique()"
      ]
    },
    {
      "cell_type": "markdown",
      "metadata": {
        "id": "roYAlo4Jz-lH"
      },
      "source": [
        "<h1>Задача 4. Напишите функцию, которая заполняет матрицу с размерами $(m, n)$ случайными числами, распределенными по нормальному закону. Затем считает мат. ожидание и дисперсию для каждого из столбцов и строк, а также строит для каждой строки и столбца гистограмму значений (использовать функцию hist из модуля matplotlib.plot)"
      ]
    },
    {
      "cell_type": "code",
      "execution_count": 1,
      "metadata": {
        "id": "nZK_71hMSQzv"
      },
      "outputs": [
        {
          "name": "stdout",
          "output_type": "stream",
          "text": [
            "Mатрица:\n",
            " [[ 1.08387152 -0.68343383]\n",
            " [ 0.70187552  1.94110366]\n",
            " [-0.69654385 -2.18075549]]\n",
            "\n",
            "Математическое ожидание для строк: [ 0.20021884  1.32148959 -1.43864967]\n",
            "Дисперсия для строк: [0.78084205 0.3839216  0.55072105]\n",
            "Математическое ожидание для столбцов: [ 0.36306773 -0.30769522]\n",
            "Дисперсия для столбцов: [0.58570851 2.90221023]\n"
          ]
        },
        {
          "data": {
            "image/png": "[encoded data removed]",
            "text/plain": [
              "<Figure size 600x400 with 1 Axes>"
            ]
          },
          "metadata": {},
          "output_type": "display_data"
        },
        {
          "data": {
            "image/png": "[encoded data removed]",
            "text/plain": [
              "<Figure size 600x400 with 1 Axes>"
            ]
          },
          "metadata": {},
          "output_type": "display_data"
        },
        {
          "data": {
            "image/png": "[encoded data removed]",
            "text/plain": [
              "<Figure size 600x400 with 1 Axes>"
            ]
          },
          "metadata": {},
          "output_type": "display_data"
        },
        {
          "data": {
            "image/png": "[encoded data removed]",
            "text/plain": [
              "<Figure size 600x400 with 1 Axes>"
            ]
          },
          "metadata": {},
          "output_type": "display_data"
        },
        {
          "data": {
            "image/png": "[encoded data removed]",
            "text/plain": [
              "<Figure size 600x400 with 1 Axes>"
            ]
          },
          "metadata": {},
          "output_type": "display_data"
        }
      ],
      "source": [
        "import numpy as np\n",
        "import matplotlib.pyplot as plt\n",
        "\n",
        "def generate_matrix(m, n):\n",
        "    return np.random.normal(loc=0, scale=1, size=(m, n))\n",
        "\n",
        "def compute_statistics(matrix):\n",
        "    col_means = np.mean(matrix, axis=0)\n",
        "    col_variances = np.var(matrix, axis=0)\n",
        "    row_means = np.mean(matrix, axis=1)\n",
        "    row_variances = np.var(matrix, axis=1)\n",
        "    return row_means, row_variances, col_means, col_variances\n",
        "\n",
        "def plot_histograms(matrix):\n",
        "    rows, cols = matrix.shape\n",
        "\n",
        "    for m in range(rows):\n",
        "        plt.figure(figsize=(6, 4))\n",
        "        plt.hist(matrix[m], bins=10, alpha=0.7, color='yellow')\n",
        "        plt.title(f'Гистограмма строки {m+1}')\n",
        "        plt.xlabel('Значения')\n",
        "        plt.ylabel('Частота')\n",
        "        plt.grid()\n",
        "        plt.show()\n",
        "\n",
        "    for n in range(cols):\n",
        "        plt.figure(figsize=(6, 4))\n",
        "        plt.hist(matrix[:, n], bins=10, alpha=0.7, color='orange')\n",
        "        plt.title(f'Гистограмма столбца {n+1}')\n",
        "        plt.xlabel('Значения')\n",
        "        plt.ylabel('Частота')\n",
        "        plt.grid()\n",
        "        plt.show()\n",
        "\n",
        "def main(m, n):\n",
        "    matrix = generate_matrix(m, n)\n",
        "    print(\"Mатрица:\\n\", matrix)\n",
        "    row_means, row_variances, col_means, col_variances = compute_statistics(matrix)\n",
        "    print(\"\\nМатематическое ожидание для строк:\", row_means)\n",
        "    print(\"Дисперсия для строк:\", row_variances)\n",
        "    print(\"Математическое ожидание для столбцов:\", col_means)\n",
        "    print(\"Дисперсия для столбцов:\", col_variances)\n",
        "\n",
        "    plot_histograms(matrix)\n",
        "\n",
        "main(3, 2)"
      ]
    },
    {
      "cell_type": "markdown",
      "metadata": {
        "id": "BDyATNdM0dJ2"
      },
      "source": [
        "<h1>Задача 5. Напишите функцию, которая заполняет матрицу $(m, n)$ в шахматном порядке заданными числами $a$ и $b$. Напишите тесты для кода"
      ]
    },
    {
      "cell_type": "code",
      "execution_count": 66,
      "metadata": {
        "id": "RWNJYWQGecS6"
      },
      "outputs": [
        {
          "name": "stdout",
          "output_type": "stream",
          "text": [
            "Все тесты пройдены\n"
          ]
        }
      ],
      "source": [
        "def chess(m, n, a, b):\n",
        "    matrix = [[0] * n for _ in range(m)]\n",
        "    for i in range(m):\n",
        "        for j in range(n):\n",
        "            if (i + j) % 2 == 0:\n",
        "                matrix[i][j] = a\n",
        "            else:\n",
        "                matrix[i][j] = b\n",
        "    return matrix\n",
        "\n",
        "def test_chess():\n",
        "  \n",
        "    result = chess(2, 2, 1, 0)\n",
        "    assert result == [[1, 0], [0, 1]], \"1 тест не пройден\"\n",
        "\n",
        "    result = chess(3, 3, 2, 3)\n",
        "    expected = [[2, 3, 2], [3, 2, 3], [2, 3, 2]]\n",
        "    assert result == expected, \"2 тест не пройден\"\n",
        "\n",
        "    result = chess(1, 5, 8, 12)\n",
        "    expected = [[8, 12, 8, 12, 8]]\n",
        "    assert result == expected, \"3 тест не пройден\"\n",
        "\n",
        "    result = chess(5, 1, 0, 99)\n",
        "    expected = [[0], [99], [0], [99], [0]]\n",
        "    assert result == expected, \"4 тест не пройден\"\n",
        "\n",
        "    result = chess(4, 4, 5, 10)\n",
        "    expected = [[5, 10, 5, 10], [10, 5, 10, 5], [5, 10, 5, 10], [10, 5, 10, 5]]\n",
        "    assert result == expected, \"5 тест не пройден\"\n",
        "\n",
        "    print(\"Все тесты пройдены\")\n",
        "\n",
        "test_chess()"
      ]
    },
    {
      "cell_type": "markdown",
      "metadata": {
        "id": "-ymXLtTN0vB6"
      },
      "source": [
        "<h1>Задача 6. Напишите функцию, которая отрисовывает прямоугольник с заданными размерами (a, b) на изображении размера (m, n), цвет фона задайте в схеме RGB, как и цвет прямоугольника. Цвета также должны быть параметрами функции. Напишите аналогичную функцию но для овала с полуосями a и b. Напишите тесты для кода.\n",
        "Примечание: уравнение эллипса (границы овала) можно записать как:\n",
        "<h1>$\\frac{(x-x_0)^2}{a^2}+\\frac{(y-y_0)^2}{b^2}=1$"
      ]
    },
    {
      "cell_type": "code",
      "execution_count": 65,
      "metadata": {
        "id": "sNfl1t_kfOF4"
      },
      "outputs": [
        {
          "data": {
            "image/png": "[encoded data removed]",
            "text/plain": [
              "<Figure size 640x480 with 1 Axes>"
            ]
          },
          "metadata": {},
          "output_type": "display_data"
        },
        {
          "name": "stdout",
          "output_type": "stream",
          "text": [
            "Все тесты пройдены\n"
          ]
        }
      ],
      "source": [
        "import numpy as np\n",
        "import matplotlib.pyplot as plt\n",
        "\n",
        "def draw_rectangle(a, b, m, n, rectangle_color, background_color):\n",
        "    rectangle = np.full((m, n, 3), background_color, dtype=np.uint8)\n",
        "    rectangle[:b, :a] = rectangle_color\n",
        "    plt.imshow(rectangle)\n",
        "    plt.axis('off') \n",
        "    plt.show()\n",
        "    return rectangle  \n",
        "\n",
        "def draw_ellipse(a, b, height, width, ellipse_color, background_color):\n",
        "    ellipse = np.full((height, width, 3), background_color, dtype=np.uint8)\n",
        "    y, x = np.ogrid[-b:b, -a:a]\n",
        "    mask = (x**2 / (a**2)) + (y**2 / (b**2)) <= 1\n",
        "    center_x = width // 2\n",
        "    center_y = height // 2\n",
        "    ellipse[center_y - b:center_y + b, center_x - a:center_x + a][mask] = ellipse_color\n",
        "    return ellipse\n",
        "\n",
        "def test_draw_rectangle():\n",
        "    rectangle = draw_rectangle(100, 50, 200, 300, (255, 0, 0), (255, 255, 255))\n",
        "    assert rectangle.shape == (200, 300, 3), \"Неверный размер изображения\"\n",
        "    assert (rectangle[25, 50] == (255, 0, 0)).all(), \"Неверный цвет прямоугольника\"\n",
        "    assert (rectangle[75, 150] == (255, 255, 255)).all(), \"Неверный цвет фона\"\n",
        "\n",
        "def test_draw_ellipse():\n",
        "    ellipse = draw_ellipse(100, 50, 200, 300, (0, 255, 0), (255, 255, 255))\n",
        "    assert ellipse.shape == (200, 300, 3), \"Неверный размер изображения\"\n",
        "    assert (ellipse[100, 150] == (0, 255, 0)).all(), \"Неверный цвет овала\"\n",
        "    assert (ellipse[50, 250] == (255, 255, 255)).all(), \"Неверный цвет фона\"\n",
        "\n",
        "test_draw_rectangle()\n",
        "test_draw_ellipse()\n",
        "\n",
        "print(\"Все тесты пройдены\")"
      ]
    },
    {
      "cell_type": "markdown",
      "metadata": {
        "id": "S82c38oz244H"
      },
      "source": [
        "<h1>Задача 7. Дан некий временной ряд. Для данного ряда нужно найти его: математическое ожидание, дисперсию, СКО, найти все локальные максимумы и минимумы (локальный максимум - это точка, которая больше своих соседних точек, а локальный минимум - это точка, которая меньше своих соседей), а также вычислить для данного ряда другой ряд, получаемый методом скользящего среднего с размером окна $p$.\n",
        "<h1>Примечание: метод скользящего среднего подразумевает нахождение среднего из подмножетсва ряда размером $p$"
      ]
    },
    {
      "cell_type": "code",
      "execution_count": 64,
      "metadata": {
        "id": "Zb9mIVge5MMt"
      },
      "outputs": [
        {
          "name": "stdout",
          "output_type": "stream",
          "text": [
            "Математическое ожидание: 4.769230769230769\n",
            "Дисперсия: 7.100591715976331\n",
            "Стандартное отклонение: 2.664693550105965\n",
            "Локальные максимумы: [1, 4, 8]\n",
            "Локальные минимумы: [2, 6]\n",
            "Скользящее среднее: [2.         3.33333333 4.66666667 6.         5.66666667 6.\n",
            " 7.33333333 8.33333333 7.33333333 5.         3.        ]\n"
          ]
        }
      ],
      "source": [
        "import numpy as np\n",
        "\n",
        "def analyze_time_series(data, p):\n",
        "    mean = np.mean(data)\n",
        "    variance = np.var(data)\n",
        "    std_dev = np.std(data)\n",
        "    local_min = []\n",
        "    local_max = []\n",
        "    \n",
        "    for i in range(1, len(data) - 1):\n",
        "        if data[i] > data[i - 1] and data[i] > data[i + 1]:\n",
        "            local_max.append(i)\n",
        "        elif data[i] < data[i - 1] and data[i] < data[i + 1]:\n",
        "            local_min.append(i)\n",
        "    \n",
        "    rolling_mean = np.convolve(data, np.ones(p)/p, mode='valid')\n",
        "    \n",
        "    return {\n",
        "        'mean': mean,\n",
        "        'variance': variance,\n",
        "        'std_dev': std_dev,\n",
        "        'local_max': local_max,\n",
        "        'local_min': local_min,\n",
        "        'rolling_mean': rolling_mean\n",
        "    }\n",
        "\n",
        "data = [1, 3, 2, 5, 7, 6, 4, 8, 10, 7, 5, 3, 1]\n",
        "p = 3\n",
        "result = analyze_time_series(data, p)\n",
        "\n",
        "print(\"Математическое ожидание:\", result['mean'])\n",
        "print(\"Дисперсия:\", result['variance'])\n",
        "print(\"Стандартное отклонение:\", result['std_dev'])\n",
        "print(\"Локальные максимумы:\", result['local_max'])\n",
        "print(\"Локальные минимумы:\", result['local_min'])\n",
        "print(\"Скользящее среднее:\", result['rolling_mean'])"
      ]
    },
    {
      "cell_type": "markdown",
      "metadata": {
        "id": "jPkylmOX5O9n"
      },
      "source": [
        "<h1> Задача 8. Дан некоторый вектор с целочисленными метками классов, напишите функцию, которая выполняет one-hot-encoding для данного вектора\n",
        "<h1> One-hot-encoding - представление, в котором на месте метки некоторого класса стоит 1, в остальных позициях стоит 0. Например для вектора [0, 2, 3, 0] one-hot-encoding выглядит как: [[1, 0, 0, 0], [0, 0, 1, 0], [0, 0, 0, 1], [1, 0, 0, 0]]"
      ]
    },
    {
      "cell_type": "code",
      "execution_count": 63,
      "metadata": {
        "id": "Y-jlnZvw56lD"
      },
      "outputs": [
        {
          "name": "stdout",
          "output_type": "stream",
          "text": [
            "[[1 0 0 0]\n",
            " [0 0 1 0]\n",
            " [0 0 0 1]\n",
            " [1 0 0 0]]\n"
          ]
        }
      ],
      "source": [
        "import numpy as np\n",
        "\n",
        "def one_hot_encode(tags):\n",
        "    tags = np.array(tags)\n",
        "    num_classes = np.max(tags) + 1\n",
        "    one_hot = np.zeros((tags.size, num_classes), dtype=int)\n",
        "    one_hot[np.arange(tags.size), tags] = 1\n",
        "    return one_hot\n",
        "\n",
        "tags = [0, 2, 3, 0]\n",
        "one_hot_encoded = one_hot_encode(tags)\n",
        "print(one_hot_encoded)"
      ]
    }
  ],
  "metadata": {
    "colab": {
      "provenance": []
    },
    "kernelspec": {
      "display_name": "Python 3",
      "name": "python3"
    },
    "language_info": {
      "codemirror_mode": {
        "name": "ipython",
        "version": 3
      },
      "file_extension": ".py",
      "mimetype": "text/x-python",
      "name": "python",
      "nbconvert_exporter": "python",
      "pygments_lexer": "ipython3",
      "version": "3.12.6"
    }
  },
  "nbformat": 4,
  "nbformat_minor": 0
}
