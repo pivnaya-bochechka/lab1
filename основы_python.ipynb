{
  "cells": [
    {
      "cell_type": "markdown",
      "metadata": {
        "id": "M-DGa20PaHnu"
      },
      "source": [
        "#Задача 1\n",
        "Написать функцию на вход которой подается строка, состоящая из латинских букв.\n",
        "Функция должна вернуть количество гласных букв (a, e, i, o, u) в этой строке. Написать тесты для кода"
      ]
    },
    {
      "cell_type": "code",
      "execution_count": 125,
      "metadata": {
        "id": "XvX8X_JJ6PCb"
      },
      "outputs": [
        {
          "name": "stdout",
          "output_type": "stream",
          "text": [
            "Все тесты пройдены\n"
          ]
        }
      ],
      "source": [
        "def count_vowels(str):\n",
        "    vowels = \"aeiouAEIOU\"\n",
        "    count = 0\n",
        "    for char in str:\n",
        "        if char in vowels:\n",
        "            count += 1\n",
        "    return count\n",
        "\n",
        "def test_count_vowels():\n",
        "    assert count_vowels(\"Hello World\") == 3, \"1 тест не пройден\"\n",
        "    assert count_vowels(\"Python\") == 1, \"2 тест не пройден\"\n",
        "    assert count_vowels(\"\") == 0, \"3 тест не пройден\"\n",
        "    assert count_vowels(\"abcdefgh\") == 2, \"4 тест не пройден\"\n",
        "    assert count_vowels(\"AEIOU\") == 5, \"5 тест не пройден\"\n",
        "    assert count_vowels(\"12345\") == 0, \"6 тест не пройден\"\n",
        "    print(\"Все тесты пройдены\")\n",
        "\n",
        "test_count_vowels()"
      ]
    },
    {
      "cell_type": "markdown",
      "metadata": {
        "id": "t2ClV_Y0bbr6"
      },
      "source": [
        "# Задача 2\n",
        "Написать функцию на вход, которой подается строка. Функция должна вернуть true, если\n",
        "каждый символ в строке встречается только 1 раз, иначе должна вернуть false. Написать тесты для кода"
      ]
    },
    {
      "cell_type": "code",
      "execution_count": 121,
      "metadata": {
        "id": "FppbECao6VIz"
      },
      "outputs": [
        {
          "name": "stdout",
          "output_type": "stream",
          "text": [
            "Все тесты пройдены\n"
          ]
        }
      ],
      "source": [
        "def has_unique_characters(s: str) -> bool:\n",
        "    return len(s) == len(set(s))\n",
        "\n",
        "def test_has_unique_characters():\n",
        "    assert has_unique_characters(\"abc\") == True, \"1 тест не пройден\"\n",
        "    assert has_unique_characters(\"abcd\") == True, \"2 тест не пройден\"\n",
        "    assert has_unique_characters(\"aabc\") == False, \"3 тест не пройден\"\n",
        "    assert has_unique_characters(\"abca\") == False, \"4 тест не пройден\"\n",
        "    assert has_unique_characters(\"xyz\") == True, \"5 тест не пройден\"\n",
        "    assert has_unique_characters(\"a\") == True, \"6 тест не пройден\" \n",
        "    assert has_unique_characters(\"\") == True, \"7 тест не пройден\"   \n",
        "    print(\"Все тесты пройдены\")\n",
        "\n",
        "test_has_unique_characters()\n"
      ]
    },
    {
      "cell_type": "markdown",
      "metadata": {
        "id": "udRiIK1cdt6E"
      },
      "source": [
        "# Задача 3\n",
        "Написать функцию, которая принимает положительное число и возвращает количество\n",
        "бит равных 1 в этом числе. Написать тесты для кода"
      ]
    },
    {
      "cell_type": "code",
      "execution_count": 120,
      "metadata": {
        "id": "6tkfDJRz6dp_"
      },
      "outputs": [
        {
          "name": "stdout",
          "output_type": "stream",
          "text": [
            "Все тесты пройдены\n"
          ]
        }
      ],
      "source": [
        "def count_ones(v):\n",
        "    if v < 0:\n",
        "        raise ValueError(\"Значение должно быть целым и положительным\")\n",
        "    return bin(v).count('1')\n",
        "\n",
        "def test_count_ones():\n",
        "    assert count_ones(0) == 0, \"1 тест не пройден\"\n",
        "    assert count_ones(1) == 1, \"2 тест не пройден\"\n",
        "    assert count_ones(2) == 1, \"3 тест не пройден\"\n",
        "    assert count_ones(3) == 2, \"4 тест не пройден\"\n",
        "    assert count_ones(4) == 1, \"5 тест не пройден\"\n",
        "    assert count_ones(15) == 4, \"6 тест не пройден\"\n",
        "    assert count_ones(16) == 1, \"7 тест не пройден\"\n",
        "    assert count_ones(255) == 8, \"8 тест не пройден\"\n",
        "    print(\"Все тесты пройдены\")\n",
        "\n",
        "test_count_ones()"
      ]
    },
    {
      "cell_type": "markdown",
      "metadata": {
        "id": "26dDUz-Ae17N"
      },
      "source": [
        "# Задача 4\n",
        "Написать функцию, которая принимает положительное число. Функция должна вернуть то,\n",
        "сколько раз необходимо перемножать цифры числа или результат перемножения, чтобы\n",
        "получилось число состоящее из одной цифры.\n",
        "Например, для входного числа:\n",
        "· 39 функция должна вернуть 3, так как 3*9=27 => 2*7=14 => 1*4=4\n",
        "· 4 функция должна вернуть 0, так как число уже состоит из одной цифры\n",
        "· 999 функция должна вернуть 4, так как 9*9*9=729 => 7*2*9=126 => 1*2*6=12 =>\n",
        "1*2=2. Написать тесты для кода"
      ]
    },
    {
      "cell_type": "code",
      "execution_count": 119,
      "metadata": {
        "id": "BH1A_Mgi6i4G"
      },
      "outputs": [
        {
          "name": "stdout",
          "output_type": "stream",
          "text": [
            "Все тесты пройдены\n"
          ]
        }
      ],
      "source": [
        "def magic(n):\n",
        "    if n < 10:\n",
        "        return 0  \n",
        "    count = 0\n",
        "    while n >= 10:\n",
        "        product = 1\n",
        "        for digit in str(n): \n",
        "            product *= int(digit)\n",
        "        n = product\n",
        "        count += 1\n",
        "    return count\n",
        "\n",
        "def test_magic():\n",
        "    assert magic(39) == 3, \"1 тест не пройден\" \n",
        "    assert magic(4) == 0, \"2 тест не пройден\"  \n",
        "    assert magic(999) == 4, \"3 тест не пройден\" \n",
        "    assert magic(10) == 1, \"4 тест не пройден\"   \n",
        "    assert magic(100) == 1, \"5 тест не пройден\"  \n",
        "    assert magic(111) == 1, \"6 тест не пройден\"\n",
        "    assert magic(123456) == 2, \"7 тест не пройден\" \n",
        "    print(\"Все тесты пройдены\")\n",
        "\n",
        "test_magic()"
      ]
    },
    {
      "cell_type": "markdown",
      "metadata": {
        "id": "0nS-kIa8g8vd"
      },
      "source": [
        "# Задача 5\n",
        "Написать функцию, которая принимает два целочисленных вектора одинаковой длины и\n",
        "возвращает среднеквадратическое отклонение двух векторов. Написать тесты для кода"
      ]
    },
    {
      "cell_type": "code",
      "execution_count": 118,
      "metadata": {
        "id": "8iphx4LM6xbx"
      },
      "outputs": [
        {
          "name": "stdout",
          "output_type": "stream",
          "text": [
            "Все тесты пройдены\n"
          ]
        }
      ],
      "source": [
        "import math\n",
        "def mse(pred, true):\n",
        "    \n",
        "    squared_errors = [(p - t) ** 2 for p, t in zip(pred, true)]\n",
        "    mean_squared_error = sum(squared_errors) / len(squared_errors)\n",
        "    return mean_squared_error\n",
        "\n",
        "def test_mse():\n",
        "    pred1 = [1, 2, 3]\n",
        "    true1 = [1, 2, 3]\n",
        "    assert mse(pred1, true1) == 0.0, \"1 тест не пройден\"\n",
        "\n",
        "    pred2 = [1, 2, 3]\n",
        "    true2 = [3, 2, 1]\n",
        "    assert mse(pred2, true2) == 2.6666666666666665, \"2 тест не пройден\"\n",
        "\n",
        "    pred3 = [4, 5, 6]\n",
        "    true3 = [1, 2, 3]\n",
        "    assert mse(pred3, true3) == 9.0, \"3 тест не пройден\"\n",
        "\n",
        "    pred4 = [10, 20, 30]\n",
        "    true4 = [5, 15, 25]\n",
        "    assert mse(pred4, true4) == 25.0, \"4 тест не пройден\"\n",
        "\n",
        "    print(\"Все тесты пройдены\")\n",
        "\n",
        "test_mse()"
      ]
    },
    {
      "cell_type": "markdown",
      "metadata": {
        "id": "vpIPKL439zkw"
      },
      "source": [
        "# Задача 6\n",
        "Написать функцию, принимающая целое положительное число. Функция должна вернуть\n",
        "строку вида “(n1**p1)(n2**p2)…(nk**pk)” представляющая разложение числа на простые\n",
        "множители (если pi == 1, то выводить только ni).\n",
        "Например, для числа 86240 функция должна вернуть “(2**5)(5)(7**2)(11)”. Написать тесты для кода"
      ]
    },
    {
      "cell_type": "code",
      "execution_count": 131,
      "metadata": {
        "id": "pFebmcZk94Jw"
      },
      "outputs": [
        {
          "name": "stdout",
          "output_type": "stream",
          "text": [
            "Все тесты пройдены\n"
          ]
        }
      ],
      "source": [
        "def prime_factorization(v):\n",
        "    if v < 1:\n",
        "        raise ValueError(\"Значение должно быть целым и положительным\")\n",
        "\n",
        "    factors = {}\n",
        "    divisor = 2\n",
        "    while v >= 2:\n",
        "        while v % divisor == 0:\n",
        "            if divisor in factors:\n",
        "                factors[divisor] += 1\n",
        "            else:\n",
        "                factors[divisor] = 1\n",
        "            v //= divisor\n",
        "        divisor += 1\n",
        "    result = []\n",
        "    for prime in sorted(factors.keys()):\n",
        "        count = factors[prime]\n",
        "        if count > 1:\n",
        "            result.append(f\"({prime}**{count})\") \n",
        "        else:\n",
        "            result.append(f\"({prime})\")  \n",
        "    return ' '.join(result) \n",
        "\n",
        "def test_prime_factorization():\n",
        "    assert prime_factorization(86240) == \"(2**5) (5) (7**2) (11)\", \"1 тест не пройден\"\n",
        "    assert prime_factorization(1) == \"\", \"2 тест не пройден\" \n",
        "    assert prime_factorization(28) == \"(2**2) (7)\", \"3 тест не пройден\" \n",
        "    assert prime_factorization(30) == \"(2) (3) (5)\", \"4 тест не пройден\"\n",
        "    assert prime_factorization(64) == \"(2**6)\", \"5 тест не пройден\"\n",
        "    assert prime_factorization(100) == \"(2**2) (5**2)\", \"6 тест не пройден\"\n",
        "    print(\"Все тесты пройдены\")\n",
        "\n",
        "test_prime_factorization()"
      ]
    },
    {
      "cell_type": "markdown",
      "metadata": {
        "id": "ps2s0BudX7A2"
      },
      "source": [
        "# Задача 7\n",
        "Написать функцию, принимающая целое число n, задающее количество кубиков. Функция\n",
        "должна определить, можно ли из данного кол-ва кубиков построить пирамиду, то есть\n",
        "можно ли представить число n как 1^2+2^2+3^2+…+k^2. Если можно, то функция должна\n",
        "вернуть k, иначе строку “It is impossible”. Написать тесты для кода"
      ]
    },
    {
      "cell_type": "code",
      "execution_count": 133,
      "metadata": {
        "id": "3YPjEXxhX_YT"
      },
      "outputs": [
        {
          "name": "stdout",
          "output_type": "stream",
          "text": [
            "Все тесты пройдены\n"
          ]
        }
      ],
      "source": [
        "def pyramid(n):\n",
        "    if n < 1:\n",
        "        return \"It is impossible\"\n",
        "    k = 1\n",
        "    sum = 0\n",
        "\n",
        "    while sum < n:\n",
        "        sum += k ** 2\n",
        "        k += 1\n",
        "    if sum == n:\n",
        "        return k - 1\n",
        "    \n",
        "    for i in range(1, k):\n",
        "        if sum - (i ** 2) == n:\n",
        "            return k - 2  \n",
        "    return \"It is impossible\"\n",
        "\n",
        "def test_pyramid():\n",
        "    test_cases = [\n",
        "        (1, 1),         \n",
        "        (14, 3),       \n",
        "        (30, 4),         \n",
        "        (55, 5),     \n",
        "        (56, \"It is impossible\")  \n",
        "    ]\n",
        "    \n",
        "    for n, expected in test_cases:\n",
        "        result = pyramid(n)\n",
        "        assert result == expected, f\"Test failed for {n}: expected {expected}, got {result}\"\n",
        "    \n",
        "    print(\"Все тесты пройдены\")\n",
        "\n",
        "test_pyramid()"
      ]
    },
    {
      "cell_type": "markdown",
      "metadata": {
        "id": "KeKgmIdAQMEJ"
      },
      "source": [
        "# Задача 8\n",
        "Функция принимает на вход положительное число и определяет является ли оно сбалансированным, т.е. сумма цифр до средних равна сумме цифр после. Средними в случае нечетного числа цифр считать одну цифру, в случае четного - две средних. Написать тесты для кода"
      ]
    },
    {
      "cell_type": "code",
      "execution_count": 132,
      "metadata": {
        "id": "gMAAqtqlQrZt"
      },
      "outputs": [
        {
          "name": "stdout",
          "output_type": "stream",
          "text": [
            "Все тесты пройдены\n"
          ]
        }
      ],
      "source": [
        "def is_balanced(v):\n",
        "    string = str(v)\n",
        "    length = len(string)\n",
        "    \n",
        "    if length < 2:\n",
        "        return True  \n",
        "    mid = length // 2\n",
        "    if length % 2 == 0: \n",
        "        left_sum = sum(int(string[i]) for i in range(mid))\n",
        "        right_sum = sum(int(string[i]) for i in range(mid, length))\n",
        "    else: \n",
        "        left_sum = sum(int(string[i]) for i in range(mid))\n",
        "        right_sum = sum(int(string[i]) for i in range(mid + 1, length))\n",
        "    return left_sum == right_sum\n",
        "\n",
        "def test_is_balanced():\n",
        "    test_cases = [\n",
        "        (1, True),          \n",
        "        (0, True),\n",
        "        (123, False),\n",
        "        (123321, True),     \n",
        "        (12345, False),      \n",
        "        (12321, True)              \n",
        "    ]\n",
        "\n",
        "    for v, expected in test_cases:\n",
        "        result = is_balanced(v)\n",
        "        assert result == expected, f\"Ошибка: Для {v} ожидалось {expected}, но получено {result}\"\n",
        "\n",
        "    print(\"Все тесты пройдены\")\n",
        "\n",
        "test_is_balanced()"
      ]
    }
  ],
  "metadata": {
    "colab": {
      "provenance": []
    },
    "kernelspec": {
      "display_name": "Python 3",
      "name": "python3"
    },
    "language_info": {
      "codemirror_mode": {
        "name": "ipython",
        "version": 3
      },
      "file_extension": ".py",
      "mimetype": "text/x-python",
      "name": "python",
      "nbconvert_exporter": "python",
      "pygments_lexer": "ipython3",
      "version": "3.12.6"
    }
  },
  "nbformat": 4,
  "nbformat_minor": 0
}
